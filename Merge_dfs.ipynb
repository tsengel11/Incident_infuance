{
 "cells": [
  {
   "cell_type": "code",
   "execution_count": 1,
   "metadata": {},
   "outputs": [],
   "source": [
    "import pandas as pd\n",
    "import numpy as np"
   ]
  },
  {
   "cell_type": "code",
   "execution_count": 2,
   "metadata": {},
   "outputs": [],
   "source": [
    "df_19SIT032752I_st=pd.read_csv('Result/link_stat_19SIT032752I.csv') # Story bridge\n",
    "df_19SIT035693I_st=pd.read_csv('Result/link_stat_19SIT035693I.csv') # Sunny bank\n",
    "df_19SIT041515I_st=pd.read_csv('Result/link_stat_19SIT041515I.csv') # Oxley\n",
    "\n",
    "\n",
    "df_19SIT032752I_cs=pd.read_csv('Result/Congested_Roads_19SIT032752I.csv')\n",
    "df_19SIT035693I_cs=pd.read_csv('Result/Congested_Roads_19SIT035693I.csv')\n",
    "df_19SIT041515I_cs=pd.read_csv('Result/Congested_Roads_19SIT041515I.csv')\n",
    "\n",
    "\n",
    "df_19SIT032752I_se=pd.read_csv('Result/df_severity_19SIT032752I.csv')\n",
    "df_19SIT035693I_se=pd.read_csv('Result/df_severity_19SIT035693I.csv')\n",
    "df_19SIT041515I_se=pd.read_csv('Result/df_severity_19SIT041515I.csv')\n",
    "\n"
   ]
  },
  {
   "cell_type": "code",
   "execution_count": 3,
   "metadata": {},
   "outputs": [],
   "source": [
    "frame=[df_19SIT032752I_st,df_19SIT035693I_st,df_19SIT041515I_st]\n",
    "pd.concat(frame).to_csv('Result/link_stat.csv')"
   ]
  },
  {
   "cell_type": "code",
   "execution_count": 6,
   "metadata": {},
   "outputs": [],
   "source": [
    "frame=[df_19SIT032752I_cs,df_19SIT035693I_cs,df_19SIT041515I_cs]\n",
    "pd.concat(frame).to_csv('Result/Congested_Roads.csv',index=0)"
   ]
  },
  {
   "cell_type": "code",
   "execution_count": 5,
   "metadata": {},
   "outputs": [],
   "source": [
    "frame=[df_19SIT032752I_se,df_19SIT035693I_se,df_19SIT041515I_se]\n",
    "pd.concat(frame).to_csv('Result/df_severity.csv')"
   ]
  },
  {
   "cell_type": "code",
   "execution_count": null,
   "metadata": {},
   "outputs": [],
   "source": []
  }
 ],
 "metadata": {
  "kernelspec": {
   "display_name": "Python 3",
   "language": "python",
   "name": "python3"
  },
  "language_info": {
   "codemirror_mode": {
    "name": "ipython",
    "version": 3
   },
   "file_extension": ".py",
   "mimetype": "text/x-python",
   "name": "python",
   "nbconvert_exporter": "python",
   "pygments_lexer": "ipython3",
   "version": "3.7.6"
  }
 },
 "nbformat": 4,
 "nbformat_minor": 4
}
